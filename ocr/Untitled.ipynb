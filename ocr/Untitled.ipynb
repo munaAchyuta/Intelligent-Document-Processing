{
 "cells": [
  {
   "cell_type": "code",
   "execution_count": 2,
   "id": "f0a21f5b",
   "metadata": {},
   "outputs": [
    {
     "data": {
      "text/html": [
       "<div>\n",
       "<style scoped>\n",
       "    .dataframe tbody tr th:only-of-type {\n",
       "        vertical-align: middle;\n",
       "    }\n",
       "\n",
       "    .dataframe tbody tr th {\n",
       "        vertical-align: top;\n",
       "    }\n",
       "\n",
       "    .dataframe thead th {\n",
       "        text-align: right;\n",
       "    }\n",
       "</style>\n",
       "<table border=\"1\" class=\"dataframe\">\n",
       "  <thead>\n",
       "    <tr style=\"text-align: right;\">\n",
       "      <th></th>\n",
       "      <th>name</th>\n",
       "      <th>address</th>\n",
       "    </tr>\n",
       "  </thead>\n",
       "  <tbody>\n",
       "    <tr>\n",
       "      <th>0</th>\n",
       "      <td>achyuta</td>\n",
       "      <td>Address: xyz</td>\n",
       "    </tr>\n",
       "    <tr>\n",
       "      <th>1</th>\n",
       "      <td>ram</td>\n",
       "      <td>Address: btd</td>\n",
       "    </tr>\n",
       "    <tr>\n",
       "      <th>2</th>\n",
       "      <td>kishore</td>\n",
       "      <td>Address: ghf</td>\n",
       "    </tr>\n",
       "    <tr>\n",
       "      <th>3</th>\n",
       "      <td>sam</td>\n",
       "      <td>Address: bood</td>\n",
       "    </tr>\n",
       "  </tbody>\n",
       "</table>\n",
       "</div>"
      ],
      "text/plain": [
       "      name        address\n",
       "0  achyuta   Address: xyz\n",
       "1      ram   Address: btd\n",
       "2  kishore   Address: ghf\n",
       "3      sam  Address: bood"
      ]
     },
     "execution_count": 2,
     "metadata": {},
     "output_type": "execute_result"
    }
   ],
   "source": [
    "import pandas as pd\n",
    "\n",
    "df = pd.DataFrame([['achyuta','Address: xyz'],['ram','Address: btd'],['kishore','Address: ghf'],['sam','Address: bood']],columns=['name','address'])\n",
    "df"
   ]
  },
  {
   "cell_type": "code",
   "execution_count": 8,
   "id": "26890bcc",
   "metadata": {},
   "outputs": [
    {
     "data": {
      "text/html": [
       "<div>\n",
       "<style scoped>\n",
       "    .dataframe tbody tr th:only-of-type {\n",
       "        vertical-align: middle;\n",
       "    }\n",
       "\n",
       "    .dataframe tbody tr th {\n",
       "        vertical-align: top;\n",
       "    }\n",
       "\n",
       "    .dataframe thead th {\n",
       "        text-align: right;\n",
       "    }\n",
       "</style>\n",
       "<table border=\"1\" class=\"dataframe\">\n",
       "  <thead>\n",
       "    <tr style=\"text-align: right;\">\n",
       "      <th></th>\n",
       "      <th>name</th>\n",
       "      <th>address</th>\n",
       "    </tr>\n",
       "  </thead>\n",
       "  <tbody>\n",
       "    <tr>\n",
       "      <th>0</th>\n",
       "      <td>achyuta</td>\n",
       "      <td>Address: xyz</td>\n",
       "    </tr>\n",
       "    <tr>\n",
       "      <th>1</th>\n",
       "      <td>ram</td>\n",
       "      <td>Address: btd</td>\n",
       "    </tr>\n",
       "    <tr>\n",
       "      <th>2</th>\n",
       "      <td>kishore</td>\n",
       "      <td>Address: ghf</td>\n",
       "    </tr>\n",
       "    <tr>\n",
       "      <th>3</th>\n",
       "      <td>sam</td>\n",
       "      <td>Address: bood</td>\n",
       "    </tr>\n",
       "  </tbody>\n",
       "</table>\n",
       "</div>"
      ],
      "text/plain": [
       "      name        address\n",
       "0  achyuta   Address: xyz\n",
       "1      ram   Address: btd\n",
       "2  kishore   Address: ghf\n",
       "3      sam  Address: bood"
      ]
     },
     "execution_count": 8,
     "metadata": {},
     "output_type": "execute_result"
    }
   ],
   "source": [
    "def func(inp,df):\n",
    "    #df[df['name'].str.contains(inp)]\n",
    "    coll = []\n",
    "    for i in range(0, len(df)):\n",
    "        tmp_data = df.loc[i,:].to_list()\n",
    "        #print(tmp_data)\n",
    "        if any([True for i in tmp_data if inp in i]):\n",
    "            coll.append(i)\n",
    "    #print(coll)\n",
    "    if len(coll)>0:\n",
    "        return df.loc[coll,:]\n",
    "    else:\n",
    "        return pd.DataFrame()\n",
    "    \n",
    "func('ss',df)"
   ]
  },
  {
   "cell_type": "code",
   "execution_count": 9,
   "id": "f5b7bd82",
   "metadata": {},
   "outputs": [
    {
     "data": {
      "text/plain": [
       "True"
      ]
     },
     "execution_count": 9,
     "metadata": {},
     "output_type": "execute_result"
    }
   ],
   "source": [
    "a = '''p1 has phno 1234\n",
    "         p2 has phno 567\n",
    "        p1 has phno 783'''\n",
    "\n",
    "'\\n' in a"
   ]
  },
  {
   "cell_type": "code",
   "execution_count": 18,
   "id": "645c3b23",
   "metadata": {},
   "outputs": [
    {
     "data": {
      "text/plain": [
       "{'p1': ['1234', '783'], 'p2': ['567']}"
      ]
     },
     "execution_count": 18,
     "metadata": {},
     "output_type": "execute_result"
    }
   ],
   "source": [
    "x = [i.strip() for i in a.split('\\n')]\n",
    "\n",
    "y = [(i.split(' ')[0],i.split(' ')[-1]) for i in x]\n",
    "\n",
    "z = {}\n",
    "\n",
    "for i in y:\n",
    "    #rint(i)\n",
    "    if z.get(i[0],None):\n",
    "        #rint(i[0],i[1])\n",
    "        z[i[0]].append(i[1])\n",
    "        #[i[0]] = \n",
    "    else:\n",
    "        z[i[0]] = [i[1]]\n",
    "    #rint(z)\n",
    "z"
   ]
  },
  {
   "cell_type": "code",
   "execution_count": 19,
   "id": "6fc4ee60",
   "metadata": {},
   "outputs": [
    {
     "name": "stdout",
     "output_type": "stream",
     "text": [
      "21\n",
      "22\n",
      "23\n"
     ]
    },
    {
     "ename": "KeyboardInterrupt",
     "evalue": "",
     "output_type": "error",
     "traceback": [
      "\u001b[1;31m---------------------------------------------------------------------------\u001b[0m",
      "\u001b[1;31mKeyboardInterrupt\u001b[0m                         Traceback (most recent call last)",
      "Cell \u001b[1;32mIn [19], line 4\u001b[0m\n\u001b[0;32m      2\u001b[0m \u001b[38;5;28;01mwhile\u001b[39;00m(a\u001b[38;5;241m<\u001b[39m\u001b[38;5;241m30\u001b[39m):\n\u001b[0;32m      3\u001b[0m     \u001b[38;5;28;01mif\u001b[39;00m a \u001b[38;5;241m==\u001b[39m \u001b[38;5;241m23\u001b[39m:\n\u001b[1;32m----> 4\u001b[0m         \u001b[38;5;28;01mcontinue\u001b[39;00m\n\u001b[0;32m      5\u001b[0m     a \u001b[38;5;241m=\u001b[39m a\u001b[38;5;241m+\u001b[39m\u001b[38;5;241m1\u001b[39m\n\u001b[0;32m      6\u001b[0m     \u001b[38;5;28mprint\u001b[39m(a)\n",
      "\u001b[1;31mKeyboardInterrupt\u001b[0m: "
     ]
    }
   ],
   "source": [
    "a = 20\n",
    "while(a<30):\n",
    "    if a == 23:\n",
    "        continue\n",
    "    a = a+1\n",
    "    print(a)"
   ]
  },
  {
   "cell_type": "code",
   "execution_count": null,
   "id": "a2dfc561",
   "metadata": {},
   "outputs": [],
   "source": []
  },
  {
   "cell_type": "code",
   "execution_count": 1,
   "id": "7924cbb0",
   "metadata": {},
   "outputs": [
    {
     "data": {
      "text/plain": [
       "[9, 25, 49, 121]"
      ]
     },
     "execution_count": 1,
     "metadata": {},
     "output_type": "execute_result"
    }
   ],
   "source": [
    "my_list = [2, 3, 5, 7, 11]\n",
    "[i**2 for i in my_list if i%2 !=0]\n"
   ]
  },
  {
   "cell_type": "code",
   "execution_count": 12,
   "id": "25362c9d",
   "metadata": {},
   "outputs": [
    {
     "data": {
      "text/plain": [
       "['delta', 'charlie', 'bravo']"
      ]
     },
     "execution_count": 12,
     "metadata": {},
     "output_type": "execute_result"
    }
   ],
   "source": [
    "lista = ['alfa', 'bravo', 'charlie', 'delta', 'echo']\n",
    "\n",
    "lista[3:0:-1]"
   ]
  },
  {
   "cell_type": "code",
   "execution_count": 6,
   "id": "5de80630",
   "metadata": {},
   "outputs": [
    {
     "data": {
      "text/plain": [
       "[8, 10, 12]"
      ]
     },
     "execution_count": 6,
     "metadata": {},
     "output_type": "execute_result"
    }
   ],
   "source": [
    "a = [1, 2, 3]\n",
    "b = [7, 8, 9]\n",
    "\n",
    "[i[0]+i[1] for i in zip(a,b)]"
   ]
  },
  {
   "cell_type": "code",
   "execution_count": null,
   "id": "5105510c",
   "metadata": {},
   "outputs": [],
   "source": [
    "colors = ['red','blue','green']\n",
    "\n",
    "df[~df['A'].isin(colors)]"
   ]
  },
  {
   "cell_type": "code",
   "execution_count": null,
   "id": "d2e928ef",
   "metadata": {},
   "outputs": [],
   "source": []
  },
  {
   "cell_type": "code",
   "execution_count": 8,
   "id": "552bf470",
   "metadata": {},
   "outputs": [],
   "source": [
    "#lst = [5,7,9,1,23]\n",
    "#lst = [1,2,3,4,5]\n",
    "lst = [5,4,3,2,1]"
   ]
  },
  {
   "cell_type": "code",
   "execution_count": 9,
   "id": "f2723b6d",
   "metadata": {},
   "outputs": [
    {
     "name": "stdout",
     "output_type": "stream",
     "text": [
      "[5, 4, 3, 2, 1]\n"
     ]
    }
   ],
   "source": [
    "for j in range(0,len(lst)):\n",
    "    tmp = None\n",
    "    for i in range(0, len(lst)):\n",
    "        if i+1==len(lst):\n",
    "            continue\n",
    "        if lst[i]<lst[i+1]:\n",
    "            tmp = lst[i]\n",
    "            lst[i] = lst[i+1]\n",
    "            lst[i+1] = tmp\n",
    "    if tmp is None:\n",
    "        break\n",
    "print(lst)"
   ]
  },
  {
   "cell_type": "code",
   "execution_count": null,
   "id": "b3ba216d",
   "metadata": {},
   "outputs": [],
   "source": [
    "#contry, state, region, count(males), count(females)\n",
    "\n",
    "#q. state, region sum(males) and avg(females)\n",
    "\n",
    "#df['sum_males'],df['avg_females'] = df.groupby(['state','region'])['count(males)','count(females)'].apply(lambda x: (sum(x['count(males)']),avg(x['count(females)'])),axis=1)\n"
   ]
  },
  {
   "cell_type": "code",
   "execution_count": 31,
   "id": "03bdfb0e",
   "metadata": {},
   "outputs": [
    {
     "name": "stdout",
     "output_type": "stream",
     "text": [
      "1\n"
     ]
    }
   ],
   "source": [
    "x = [1, 45, 76,89]\n",
    "\n",
    "small = x[0]\n",
    "for i in range(0,len(x)):\n",
    "    if small>x[i]:\n",
    "        small = x[i]\n",
    "print(small)"
   ]
  },
  {
   "cell_type": "code",
   "execution_count": 17,
   "id": "b81e5d7b",
   "metadata": {},
   "outputs": [
    {
     "data": {
      "text/plain": [
       "3"
      ]
     },
     "execution_count": 17,
     "metadata": {},
     "output_type": "execute_result"
    }
   ],
   "source": [
    "S = \"abacdec\"\n",
    " \n",
    "def solution(S):\n",
    "    count_of_min_substrings=0\n",
    "    substr=\"\"\n",
    "    for i in range (0,len(S)):\n",
    "        if S[i] not in substr:\n",
    "            substr += S[i]\n",
    "        else:\n",
    "            count_of_min_substrings += 1\n",
    "            substr = S[i]\n",
    "    return count_of_min_substrings+1\n",
    "solution(S)"
   ]
  },
  {
   "cell_type": "code",
   "execution_count": null,
   "id": "8cdaaaa3",
   "metadata": {},
   "outputs": [],
   "source": [
    "black, pep8"
   ]
  },
  {
   "cell_type": "code",
   "execution_count": 1,
   "id": "8f9a9cb1",
   "metadata": {},
   "outputs": [
    {
     "data": {
      "text/plain": [
       "[25, 121, 0, 1156]"
      ]
     },
     "execution_count": 1,
     "metadata": {},
     "output_type": "execute_result"
    }
   ],
   "source": [
    "x = [5,11,0,-34] \n",
    "\n",
    "#rint square in one line code\n",
    "\n",
    "[i**2 for i in x]"
   ]
  },
  {
   "cell_type": "code",
   "execution_count": null,
   "id": "820ebaf0",
   "metadata": {},
   "outputs": [],
   "source": [
    "x=arr.array( [11.1 , 2.1 ,3.1] ) -> list\n",
    "x.append(10.1)  -> [11.1 , 2.1 ,3.1, 10.1] \n",
    "\n",
    "print(x)\n",
    "x.extend([8.3,1.3,5.3])\n",
    "\n",
    "print(x)-> [11.1 , 2.1 ,3.1, 10.1,8.3,1.3,5.3]\n",
    "\n",
    "x.insert(2,6.2)\n",
    "\n",
    "print(x) -> [11.1 , 2.1 ,6.2,3.1, 10.1,8.3,1.3,5.3]"
   ]
  },
  {
   "cell_type": "code",
   "execution_count": null,
   "id": "6535be16",
   "metadata": {},
   "outputs": [],
   "source": [
    "list = [“2”, “5”, “7”, “8”, “1”]"
   ]
  },
  {
   "cell_type": "code",
   "execution_count": null,
   "id": "117c944a",
   "metadata": {},
   "outputs": [],
   "source": [
    "six sigma: \n",
    "parreto principle:\n",
    "5 number summary:\n",
    "    \n",
    "What is the probability of getting a sum 9 from two throws of a dice?\n",
    "\n",
    "5,4\n",
    "4,5\n",
    "3,6\n",
    "6,3\n",
    "\n",
    "4/36\n",
    "\n"
   ]
  },
  {
   "cell_type": "code",
   "execution_count": null,
   "id": "558dfdac",
   "metadata": {},
   "outputs": [],
   "source": [
    "A train 125 m long passes a man, running at 5 km/hr in the same direction in which the train is going, in 10 seconds. \n",
    "The speed of the train is:"
   ]
  },
  {
   "cell_type": "code",
   "execution_count": null,
   "id": "f2cde8dc",
   "metadata": {},
   "outputs": [],
   "source": [
    "spped = distance/time\n",
    "50 samples\n",
    "\n",
    "[1,2,3,4,5]\n",
    "(1,(2,3,4,5)), (2,(1,3,4,5))\n",
    "10 - test \n",
    "40- train\n",
    "\n",
    "TP/(TP+FN)- recall"
   ]
  },
  {
   "cell_type": "code",
   "execution_count": null,
   "id": "5bc7bf51",
   "metadata": {},
   "outputs": [],
   "source": []
  },
  {
   "cell_type": "code",
   "execution_count": null,
   "id": "d5cca648",
   "metadata": {},
   "outputs": [],
   "source": []
  },
  {
   "cell_type": "code",
   "execution_count": null,
   "id": "5c732ece",
   "metadata": {},
   "outputs": [],
   "source": []
  },
  {
   "cell_type": "code",
   "execution_count": null,
   "id": "bb11dd0b",
   "metadata": {},
   "outputs": [],
   "source": []
  },
  {
   "cell_type": "code",
   "execution_count": 2,
   "id": "c5cc2817",
   "metadata": {},
   "outputs": [
    {
     "data": {
      "text/plain": [
       "'elephant'"
      ]
     },
     "execution_count": 2,
     "metadata": {},
     "output_type": "execute_result"
    }
   ],
   "source": [
    "string_list=['apple','ball','elephant','zebra']\n",
    "#find longest element in list\n",
    "\n",
    "tmp_list = [len(i) for i in string_list]\n",
    "string_list[tmp_list.index(max(tmp_list))]"
   ]
  },
  {
   "cell_type": "code",
   "execution_count": 4,
   "id": "24514b59",
   "metadata": {},
   "outputs": [],
   "source": [
    "string = \"200 plus 500 is equal to\"\n",
    "#string3 = \"give me plus of 200 and 500\"\n",
    "string2 = \"hello 500 minus 300 is\"\n",
    "##evaluate the above string"
   ]
  },
  {
   "cell_type": "code",
   "execution_count": 10,
   "id": "bc899bbb",
   "metadata": {},
   "outputs": [
    {
     "name": "stdout",
     "output_type": "stream",
     "text": [
      "700\n"
     ]
    }
   ],
   "source": [
    "def func(inp_str):\n",
    "    #tmp_dict = {'plus':'+','minus':'-'}\n",
    "    if 'plus' in inp_str:\n",
    "        # get intgers\n",
    "        tmp_list = []\n",
    "        for i in inp_str.split():\n",
    "            try:\n",
    "                if int(i):\n",
    "                    tmp_list.append(int(i))\n",
    "            except:\n",
    "                pass\n",
    "                    \n",
    "        # opts\n",
    "        return tmp_list[0] + tmp_list[1]\n",
    "    elif 'minus' in inp_str:\n",
    "        # get intgers\n",
    "        tmp_list = []\n",
    "        for i in inp_str.split():\n",
    "            try:\n",
    "                if int(i):\n",
    "                    tmp_list.append(int(i))\n",
    "            except:\n",
    "                pass\n",
    "                    \n",
    "        # opts\n",
    "        #print(tmp_list)\n",
    "        return tmp_list[0] - tmp_list[1]\n",
    "        # opts\n",
    "    else:\n",
    "        \"Not handled\"\n",
    "        \n",
    "print(func(string))"
   ]
  },
  {
   "cell_type": "code",
   "execution_count": null,
   "id": "60e4c37a",
   "metadata": {},
   "outputs": [],
   "source": [
    "x = [1,2,1]\n",
    "y = []\n",
    "\n",
    "q1. how many integers present in both list?  -> 5\n",
    "q2. if any list has all integers, concatenate , and check if number formed is palliendrum or not ?\n",
    "q3. convert two list into single list of tuples, each tuple val will have from both x and y"
   ]
  },
  {
   "cell_type": "code",
   "execution_count": 3,
   "id": "5707decc",
   "metadata": {},
   "outputs": [],
   "source": [
    "x = [1, 3, 2, 3, 1] \n",
    "y = [\"a\", \"b\" , \"c\", \"y\", \"z\"]"
   ]
  },
  {
   "cell_type": "code",
   "execution_count": 7,
   "id": "d35f9710",
   "metadata": {},
   "outputs": [
    {
     "name": "stdout",
     "output_type": "stream",
     "text": [
      "5\n",
      "0\n"
     ]
    }
   ],
   "source": [
    "def integer_present(l1):\n",
    "    return len([i for i in l1 if isinstance(i,int)])\n",
    "\n",
    "print(integer_present(x))\n",
    "print(integer_present(y))"
   ]
  },
  {
   "cell_type": "code",
   "execution_count": 13,
   "id": "a7eb5aab",
   "metadata": {},
   "outputs": [
    {
     "name": "stdout",
     "output_type": "stream",
     "text": [
      "list has all integers\n",
      "it's a pallindrum.\n"
     ]
    }
   ],
   "source": [
    "def check_integer(l1):\n",
    "    # will check loist has int\n",
    "    if [True if isinstance(i,int) else False for i in l1].count(True)==len(l1):\n",
    "        print(\"list has all integers\")\n",
    "        \n",
    "        # check if pallendrum or not\n",
    "        print(\"it's a pallindrum.\") if l1==l1[::-1] else \"not a pallindrum\"\n",
    "    else:\n",
    "        print(\"list not have integers\")\n",
    "\n",
    "check_integer(x)"
   ]
  },
  {
   "cell_type": "code",
   "execution_count": 14,
   "id": "d5b82e62",
   "metadata": {},
   "outputs": [
    {
     "data": {
      "text/plain": [
       "[(1, 'a'), (3, 'b'), (2, 'c'), (3, 'y'), (1, 'z')]"
      ]
     },
     "execution_count": 14,
     "metadata": {},
     "output_type": "execute_result"
    }
   ],
   "source": [
    "list(zip(x,y))"
   ]
  },
  {
   "cell_type": "code",
   "execution_count": 16,
   "id": "3541aaf3",
   "metadata": {},
   "outputs": [
    {
     "data": {
      "text/html": [
       "<div>\n",
       "<style scoped>\n",
       "    .dataframe tbody tr th:only-of-type {\n",
       "        vertical-align: middle;\n",
       "    }\n",
       "\n",
       "    .dataframe tbody tr th {\n",
       "        vertical-align: top;\n",
       "    }\n",
       "\n",
       "    .dataframe thead th {\n",
       "        text-align: right;\n",
       "    }\n",
       "</style>\n",
       "<table border=\"1\" class=\"dataframe\">\n",
       "  <thead>\n",
       "    <tr style=\"text-align: right;\">\n",
       "      <th></th>\n",
       "      <th>employee</th>\n",
       "      <th>location</th>\n",
       "      <th>age</th>\n",
       "    </tr>\n",
       "  </thead>\n",
       "  <tbody>\n",
       "    <tr>\n",
       "      <th>0</th>\n",
       "      <td>x_0</td>\n",
       "      <td>Delhi</td>\n",
       "      <td>23</td>\n",
       "    </tr>\n",
       "    <tr>\n",
       "      <th>1</th>\n",
       "      <td>x_1</td>\n",
       "      <td>Mumbai</td>\n",
       "      <td>45</td>\n",
       "    </tr>\n",
       "    <tr>\n",
       "      <th>2</th>\n",
       "      <td>x_2</td>\n",
       "      <td>Bangalore</td>\n",
       "      <td>27</td>\n",
       "    </tr>\n",
       "    <tr>\n",
       "      <th>3</th>\n",
       "      <td>x_3</td>\n",
       "      <td>Mumbai</td>\n",
       "      <td>35</td>\n",
       "    </tr>\n",
       "    <tr>\n",
       "      <th>4</th>\n",
       "      <td>x_4</td>\n",
       "      <td>Bangalore</td>\n",
       "      <td>30</td>\n",
       "    </tr>\n",
       "  </tbody>\n",
       "</table>\n",
       "</div>"
      ],
      "text/plain": [
       "  employee   location  age\n",
       "0      x_0      Delhi   23\n",
       "1      x_1     Mumbai   45\n",
       "2      x_2  Bangalore   27\n",
       "3      x_3     Mumbai   35\n",
       "4      x_4  Bangalore   30"
      ]
     },
     "execution_count": 16,
     "metadata": {},
     "output_type": "execute_result"
    }
   ],
   "source": [
    "import pandas as pd\n",
    "\n",
    "cnt = 5\n",
    "dict_of_data = {'employee':[f'x_{i}' for i in range(cnt)],\n",
    "               'location':['Delhi','Mumbai','Bangalore','Mumbai','Bangalore'],\n",
    "               'age':[23, 45,27,35,30]}\n",
    "\n",
    "df = pd.DataFrame(dict_of_data)\n",
    "df"
   ]
  },
  {
   "cell_type": "code",
   "execution_count": 18,
   "id": "a0d692f7",
   "metadata": {},
   "outputs": [
    {
     "data": {
      "text/html": [
       "<div>\n",
       "<style scoped>\n",
       "    .dataframe tbody tr th:only-of-type {\n",
       "        vertical-align: middle;\n",
       "    }\n",
       "\n",
       "    .dataframe tbody tr th {\n",
       "        vertical-align: top;\n",
       "    }\n",
       "\n",
       "    .dataframe thead th {\n",
       "        text-align: right;\n",
       "    }\n",
       "</style>\n",
       "<table border=\"1\" class=\"dataframe\">\n",
       "  <thead>\n",
       "    <tr style=\"text-align: right;\">\n",
       "      <th></th>\n",
       "      <th>employee</th>\n",
       "      <th>age</th>\n",
       "    </tr>\n",
       "    <tr>\n",
       "      <th>location</th>\n",
       "      <th></th>\n",
       "      <th></th>\n",
       "    </tr>\n",
       "  </thead>\n",
       "  <tbody>\n",
       "    <tr>\n",
       "      <th>Bangalore</th>\n",
       "      <td>2</td>\n",
       "      <td>28.5</td>\n",
       "    </tr>\n",
       "    <tr>\n",
       "      <th>Delhi</th>\n",
       "      <td>1</td>\n",
       "      <td>23.0</td>\n",
       "    </tr>\n",
       "    <tr>\n",
       "      <th>Mumbai</th>\n",
       "      <td>2</td>\n",
       "      <td>40.0</td>\n",
       "    </tr>\n",
       "  </tbody>\n",
       "</table>\n",
       "</div>"
      ],
      "text/plain": [
       "           employee   age\n",
       "location                 \n",
       "Bangalore         2  28.5\n",
       "Delhi             1  23.0\n",
       "Mumbai            2  40.0"
      ]
     },
     "execution_count": 18,
     "metadata": {},
     "output_type": "execute_result"
    }
   ],
   "source": [
    "import numpy as np\n",
    "\n",
    "df.groupby('location').agg({'employee':'count','age':np.mean})"
   ]
  },
  {
   "cell_type": "code",
   "execution_count": null,
   "id": "a4fe7e75",
   "metadata": {},
   "outputs": [],
   "source": []
  },
  {
   "cell_type": "code",
   "execution_count": null,
   "id": "8a3c05d7",
   "metadata": {},
   "outputs": [],
   "source": []
  },
  {
   "cell_type": "code",
   "execution_count": null,
   "id": "241ae0ee",
   "metadata": {},
   "outputs": [],
   "source": []
  },
  {
   "cell_type": "code",
   "execution_count": null,
   "id": "a66520db",
   "metadata": {},
   "outputs": [],
   "source": []
  },
  {
   "cell_type": "code",
   "execution_count": null,
   "id": "9f9a4215",
   "metadata": {},
   "outputs": [],
   "source": []
  }
 ],
 "metadata": {
  "kernelspec": {
   "display_name": "Python 3 (ipykernel)",
   "language": "python",
   "name": "python3"
  },
  "language_info": {
   "codemirror_mode": {
    "name": "ipython",
    "version": 3
   },
   "file_extension": ".py",
   "mimetype": "text/x-python",
   "name": "python",
   "nbconvert_exporter": "python",
   "pygments_lexer": "ipython3",
   "version": "3.9.16"
  }
 },
 "nbformat": 4,
 "nbformat_minor": 5
}
